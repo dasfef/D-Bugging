{
 "cells": [
  {
   "cell_type": "code",
   "execution_count": 3,
   "metadata": {},
   "outputs": [
    {
     "name": "stderr",
     "output_type": "stream",
     "text": [
      "\n",
      "image 1/1 D:\\InsectData\\data\\Validation\\rawData\\VS1\\PtecticusTenebrifer\\Caterpillar\\Cam2\\Capture_20211111_02_03_49.jpg: 384x640 18 bugs, 12.0ms\n",
      "Speed: 1.0ms preprocess, 12.0ms inference, 2.0ms postprocess per image at shape (1, 3, 640, 640)\n",
      "Results saved to \u001b[1mruns\\detect\\predict15\u001b[0m\n"
     ]
    },
    {
     "data": {
      "text/plain": [
       "[ultralytics.yolo.engine.results.Results object with attributes:\n",
       " \n",
       " boxes: ultralytics.yolo.engine.results.Boxes object\n",
       " keypoints: None\n",
       " keys: ['boxes']\n",
       " masks: None\n",
       " names: {0: 'bug'}\n",
       " orig_img: array([[[42, 62, 57],\n",
       "         [42, 62, 57],\n",
       "         [42, 62, 57],\n",
       "         ...,\n",
       "         [ 0,  0,  0],\n",
       "         [ 0,  0,  0],\n",
       "         [ 0,  0,  0]],\n",
       " \n",
       "        [[42, 62, 57],\n",
       "         [43, 63, 58],\n",
       "         [43, 63, 58],\n",
       "         ...,\n",
       "         [ 0,  0,  0],\n",
       "         [ 0,  0,  0],\n",
       "         [ 0,  0,  0]],\n",
       " \n",
       "        [[43, 63, 58],\n",
       "         [43, 63, 58],\n",
       "         [43, 63, 58],\n",
       "         ...,\n",
       "         [ 0,  0,  0],\n",
       "         [ 0,  0,  0],\n",
       "         [ 0,  0,  0]],\n",
       " \n",
       "        ...,\n",
       " \n",
       "        [[40, 56, 49],\n",
       "         [40, 56, 49],\n",
       "         [40, 56, 49],\n",
       "         ...,\n",
       "         [ 0,  0,  1],\n",
       "         [ 0,  0,  1],\n",
       "         [ 0,  0,  1]],\n",
       " \n",
       "        [[40, 56, 49],\n",
       "         [40, 56, 49],\n",
       "         [40, 56, 49],\n",
       "         ...,\n",
       "         [ 0,  0,  1],\n",
       "         [ 0,  0,  1],\n",
       "         [ 0,  0,  1]],\n",
       " \n",
       "        [[40, 56, 49],\n",
       "         [40, 56, 49],\n",
       "         [40, 56, 49],\n",
       "         ...,\n",
       "         [ 0,  0,  1],\n",
       "         [ 0,  0,  1],\n",
       "         [ 0,  0,  1]]], dtype=uint8)\n",
       " orig_shape: (1440, 2560)\n",
       " path: 'D:\\\\InsectData\\\\data\\\\Validation\\\\rawData\\\\VS1\\\\PtecticusTenebrifer\\\\Caterpillar\\\\Cam2\\\\Capture_20211111_02_03_49.jpg'\n",
       " probs: None\n",
       " save_dir: 'runs\\\\detect\\\\predict15'\n",
       " speed: {'preprocess': 1.0008811950683594, 'inference': 11.998414993286133, 'postprocess': 2.0012855529785156}]"
      ]
     },
     "execution_count": 3,
     "metadata": {},
     "output_type": "execute_result"
    }
   ],
   "source": [
    "# 예측시켜보기\n",
    "import os\n",
    "from ultralytics import YOLO as yolo\n",
    "\n",
    "os.environ['KMP_DUPLICATE_LIB_OK']='True'\n",
    "\n",
    "model = yolo('C:/Users/user/Desktop/WORK/DBUG/runs/detect/train25/weights/best.pt')\n",
    "model.predict(source=\"D:/InsectData/data/Validation/rawData/VS1/PtecticusTenebrifer/Caterpillar/Cam2/Capture_20211111_02_03_49.jpg\", show=False, save=True, conf=0.5)"
   ]
  }
 ],
 "metadata": {
  "kernelspec": {
   "display_name": "Dyolo",
   "language": "python",
   "name": "python3"
  },
  "language_info": {
   "codemirror_mode": {
    "name": "ipython",
    "version": 3
   },
   "file_extension": ".py",
   "mimetype": "text/x-python",
   "name": "python",
   "nbconvert_exporter": "python",
   "pygments_lexer": "ipython3",
   "version": "3.9.16"
  },
  "orig_nbformat": 4
 },
 "nbformat": 4,
 "nbformat_minor": 2
}
